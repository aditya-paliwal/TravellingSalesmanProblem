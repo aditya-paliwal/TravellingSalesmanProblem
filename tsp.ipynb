{
 "cells": [
  {
   "cell_type": "code",
   "execution_count": 1,
   "metadata": {},
   "outputs": [],
   "source": [
    "import math\n",
    "import pants\n",
    "\n",
    "# generalized node class\n",
    "class Node:\n",
    "    def __init__(self, node, x_coord, y_coord, releaseDate):\n",
    "        self.node = node\n",
    "        self.x_coord = x_coord\n",
    "        self.y_coord = y_coord\n",
    "        self.releaseDate = releaseDate\n",
    "                \n",
    "    def get_coordinates(self):\n",
    "        position = (self.x_coord, self.y_coord)\n",
    "    \n",
    "        return position\n",
    "    \n",
    "    def get_releaseDate(self):\n",
    "        rd = self.releaseDate\n",
    "    \n",
    "        return rd\n",
    "        "
   ]
  },
  {
   "cell_type": "code",
   "execution_count": 2,
   "metadata": {},
   "outputs": [],
   "source": [
    "# inherrited city class\n",
    "class City(Node):\n",
    "    def __init__(self, node, x_coord, y_coord, releaseDate):\n",
    "        Node.__init__(self, node, x_coord, y_coord, releaseDate)"
   ]
  },
  {
   "cell_type": "code",
   "execution_count": 3,
   "metadata": {},
   "outputs": [],
   "source": [
    "# inheritted depot class\n",
    "class Depot(Node):\n",
    "    \n",
    "    def __init__(self, node, x_coord, y_coord, releaseDate):\n",
    "        Node.__init__(self, node, x_coord, y_coord, releaseDate)\n",
    "        self.distances = []\n",
    "        self.releaseDates = []\n",
    "    \n",
    "    def add_stLine_distance(self, City):\n",
    "        x1 = self.x_coord\n",
    "        x2 = City.x_coord\n",
    "        y1 = self.y_coord\n",
    "        y2 = City.y_coord\n",
    "        \n",
    "        dist = ((x2-x1)**2 + (y2-y1)**2)**0.5\n",
    "        self.distances.append((dist))\n",
    "        \n",
    "    def remove_distance(self, City):\n",
    "        for data in self.distances:\n",
    "            node, distance = data\n",
    "            if node == City.node:\n",
    "                self.distances.remove(data)\n",
    "                \n",
    "    def add_releaseDate(self, City):\n",
    "        self.releaseDates.append(City.releaseDate)"
   ]
  },
  {
   "cell_type": "code",
   "execution_count": 4,
   "metadata": {},
   "outputs": [],
   "source": [
    "# small demo of how depot and city objects will work\n",
    "delhi = Depot(0, 23.5, 43.6, 72)\n",
    "mum = City(0, 12, 13, 76)\n",
    "\n",
    "delhi.add_stLine_distance(mum)"
   ]
  },
  {
   "cell_type": "code",
   "execution_count": 5,
   "metadata": {},
   "outputs": [
    {
     "data": {
      "text/plain": [
       "76"
      ]
     },
     "execution_count": 5,
     "metadata": {},
     "output_type": "execute_result"
    }
   ],
   "source": [
    "mum.get_releaseDate()"
   ]
  },
  {
   "cell_type": "code",
   "execution_count": 6,
   "metadata": {},
   "outputs": [],
   "source": [
    "# reading data form csv file\n",
    "dataList = []\n",
    "file = 'data1'\n",
    "\n",
    "with open(file) as fp:\n",
    "    dataList = [tuple(map(float, i.strip().split(\",\"))) for i in fp]\n",
    "    "
   ]
  },
  {
   "cell_type": "code",
   "execution_count": 7,
   "metadata": {},
   "outputs": [
    {
     "name": "stdout",
     "output_type": "stream",
     "text": [
      "[(1.0, 63.0, 71.0, 0.0), (44.0, 1362.0, 496.0, 19.0), (5.0, 205.0, 1213.0, 61.0), (18.0, 638.0, 654.0, 76.0), (64.0, 2087.0, 370.0, 173.0), (89.0, 2630.0, 630.0, 211.0), (15.0, 528.0, 157.0, 344.0), (77.0, 2315.0, 315.0, 391.0), (53.0, 1551.0, 654.0, 424.0), (102.0, 3087.0, 69.0, 570.0), (3.0, 142.0, 370.0, 732.0), (91.0, 2756.0, 69.0, 791.0), (62.0, 1913.0, 630.0, 819.0), (65.0, 2118.0, 1276.0, 908.0), (14.0, 512.0, 1213.0, 909.0), (75.0, 2315.0, 654.0, 1027.0), (10.0, 362.0, 69.0, 1088.0), (58.0, 1614.0, 654.0, 1234.0), (28.0, 709.0, 315.0, 1332.0), (73.0, 2276.0, 496.0, 1380.0), (79.0, 2346.0, 315.0, 1608.0), (88.0, 2559.0, 1213.0, 1627.0), (24.0, 677.0, 496.0, 1670.0), (55.0, 1551.0, 291.0, 1797.0), (39.0, 1228.0, 1213.0, 1853.0), (69.0, 2220.0, 630.0, 2187.0), (97.0, 2937.0, 69.0, 2263.0), (85.0, 2480.0, 142.0, 2371.0), (72.0, 2276.0, 315.0, 2406.0), (38.0, 1197.0, 1276.0, 2461.0), (49.0, 1417.0, 173.0, 2505.0), (87.0, 2528.0, 1276.0, 2594.0), (76.0, 2315.0, 496.0, 2601.0), (78.0, 2331.0, 142.0, 2693.0), (35.0, 921.0, 1213.0, 2721.0), (7.0, 244.0, 69.0, 2867.0), (25.0, 677.0, 654.0, 3150.0), (63.0, 1921.0, 732.0, 3247.0), (100.0, 3016.0, 1276.0, 3279.0), (12.0, 449.0, 370.0, 3537.0), (11.0, 394.0, 69.0, 3913.0), (37.0, 1000.0, 732.0, 4100.0), (29.0, 701.0, 142.0, 4160.0), (105.0, 1780.0, 370.0, 4294.0), (82.0, 2362.0, 142.0, 4507.0), (16.0, 583.0, 630.0, 4556.0), (60.0, 1811.0, 1276.0, 4754.0), (41.0, 1299.0, 630.0, 5329.0), (4.0, 173.0, 1276.0, 5532.0), (19.0, 638.0, 496.0, 5637.0), (98.0, 2937.0, 630.0, 5645.0), (54.0, 1551.0, 496.0, 5782.0), (27.0, 709.0, 496.0, 5876.0), (84.0, 2402.0, 220.0, 5940.0), (46.0, 1425.0, 654.0, 6473.0), (21.0, 638.0, 142.0, 6512.0), (50.0, 1488.0, 291.0, 6684.0), (20.0, 638.0, 314.0, 7004.0), (51.0, 1488.0, 496.0, 7104.0), (22.0, 669.0, 142.0, 7167.0), (59.0, 1732.0, 189.0, 7298.0), (101.0, 3055.0, 69.0, 7354.0), (26.0, 709.0, 654.0, 7365.0), (33.0, 858.0, 370.0, 7573.0), (45.0, 1362.0, 291.0, 7706.0), (57.0, 1614.0, 496.0, 7778.0), (36.0, 992.0, 630.0, 7932.0), (90.0, 2638.0, 732.0, 7964.0), (71.0, 2244.0, 142.0, 8019.0), (93.0, 2803.0, 370.0, 8060.0), (104.0, 1165.0, 370.0, 8105.0), (56.0, 1614.0, 291.0, 8140.0), (9.0, 283.0, 732.0, 8207.0), (17.0, 591.0, 732.0, 8394.0), (13.0, 480.0, 1276.0, 8504.0), (94.0, 2835.0, 1276.0, 8594.0), (96.0, 2906.0, 69.0, 8766.0), (8.0, 276.0, 630.0, 8817.0), (42.0, 1307.0, 732.0, 8943.0), (31.0, 811.0, 189.0, 9008.0), (103.0, 606.0, 220.0, 9012.0), (52.0, 1488.0, 654.0, 9060.0), (81.0, 2346.0, 654.0, 9093.0), (6.0, 213.0, 69.0, 9126.0), (92.0, 2787.0, 69.0, 9185.0), (68.0, 2220.0, 189.0, 9219.0), (83.0, 2402.0, 157.0, 9267.0), (47.0, 1425.0, 496.0, 9290.0), (86.0, 2496.0, 370.0, 9322.0), (67.0, 2189.0, 205.0, 9337.0), (30.0, 764.0, 220.0, 9415.0), (80.0, 2346.0, 496.0, 9484.0), (70.0, 2228.0, 732.0, 9519.0), (74.0, 2276.0, 654.0, 9576.0), (48.0, 1425.0, 291.0, 9705.0), (40.0, 1276.0, 205.0, 9849.0), (23.0, 677.0, 315.0, 9968.0), (66.0, 2150.0, 1213.0, 10121.0), (2.0, 94.0, 71.0, 10517.0), (43.0, 1362.0, 654.0, 10548.0), (61.0, 1843.0, 1213.0, 10593.0), (99.0, 2945.0, 732.0, 10605.0), (32.0, 843.0, 173.0, 10770.0), (34.0, 890.0, 1276.0, 10789.0), (95.0, 2866.0, 1213.0, 11009.0)]\n"
     ]
    }
   ],
   "source": [
    "print(dataList)"
   ]
  },
  {
   "cell_type": "code",
   "execution_count": 8,
   "metadata": {},
   "outputs": [],
   "source": [
    "cityData = []\n",
    "counter = 0\n",
    "\n",
    "# splitting data to depot and cities\n",
    "for data in dataList:\n",
    "    node, x_coord, y_coord, releaseDate = data\n",
    "    \n",
    "    if (counter == 0):\n",
    "        cityData.append(Depot(node, x_coord, y_coord, releaseDate))\n",
    "    \n",
    "    else:\n",
    "        cityData.append(City(node, x_coord, y_coord, releaseDate))\n",
    "    \n",
    "    counter += 1 "
   ]
  },
  {
   "cell_type": "code",
   "execution_count": 9,
   "metadata": {},
   "outputs": [],
   "source": [
    "# adding straight line distances from depot to all other cities \n",
    "for i in range(1, len(cityData)):\n",
    "    cityData[0].add_stLine_distance(cityData[i])"
   ]
  },
  {
   "cell_type": "code",
   "execution_count": 10,
   "metadata": {},
   "outputs": [
    {
     "data": {
      "text/plain": [
       "1366.7574766578011"
      ]
     },
     "execution_count": 10,
     "metadata": {},
     "output_type": "execute_result"
    }
   ],
   "source": [
    "# print distance list of depot have st line distance to all other nodes\n",
    "cityData[0].distances[0]                    "
   ]
  },
  {
   "cell_type": "code",
   "execution_count": 11,
   "metadata": {},
   "outputs": [],
   "source": [
    "for i in range(1, len(cityData)):\n",
    "    cityData[0].add_releaseDate(cityData[i])"
   ]
  },
  {
   "cell_type": "code",
   "execution_count": 12,
   "metadata": {},
   "outputs": [
    {
     "data": {
      "text/plain": [
       "104"
      ]
     },
     "execution_count": 12,
     "metadata": {},
     "output_type": "execute_result"
    }
   ],
   "source": [
    "len(cityData[0].distances)"
   ]
  },
  {
   "cell_type": "code",
   "execution_count": 13,
   "metadata": {},
   "outputs": [],
   "source": [
    "arrivedParcels = []\n",
    "deliveredParcels = []\n",
    "tempCoordinates = []\n",
    "intermediateNodeData = []\n",
    "\n",
    "\n",
    "def euclidean(a, b):\n",
    "    return math.sqrt(pow(a[1] - b[1], 2) + pow(a[0] - b[0], 2))\n",
    "\n",
    "def calculate(time, releaseDateData, distanceData):\n",
    "    \n",
    "    \n",
    "    arrivedParcels.insert(0, releaseDateData[0])\n",
    "    print('ARRIVED PARCEL LIST:', arrivedParcels)\n",
    "    print('got_first_parcel') # waiting_Time_Till_First_Customer\n",
    "    print('.....TRIP START.....')\n",
    "    print('delivered') # Move to first node for delivery\n",
    "    deliveredParcels.insert(0, releaseDateData[0])\n",
    "    print('DELIVERED PARCEL LIST:', deliveredParcels)\n",
    "    releaseDateData.pop(0)\n",
    "    arrivedParcels.pop(0)\n",
    "    print('ARRIVED PARCEL LIST:', arrivedParcels)\n",
    "    print('back on depot') # Move back to Depot\n",
    "        \n",
    "    finalTime = time + releaseDateData[0] + (2 * distanceData[0])\n",
    "    \n",
    "    x = finalTime\n",
    "    # Adding more Parcels to the list until first delivery.\n",
    "    timeIntermediate = 0\n",
    "    \n",
    "    while(len(deliveredParcels) != (len(cityData)-1)):\n",
    "        trips = 2\n",
    "        \n",
    "        for item in releaseDateData:\n",
    "            if (timeIntermediate <= item <= finalTime):\n",
    "                arrivedParcels.append(item)\n",
    "        \n",
    "        print('ARRIVED PARCEL LIST:', arrivedParcels)\n",
    "        # delete those release dates from the releaseDateData and Add deleted release dates to delivered parcel list\n",
    "        for i in range(len(arrivedParcels)):\n",
    "            deliveredParcels.append(releaseDateData[0])\n",
    "            releaseDateData.pop(0)\n",
    "\n",
    "        print('UPDATED DELIVERED PARCEL LIST: ', deliveredParcels) \n",
    "        \n",
    "        # retrieve coordinates for tsp calculation\n",
    "        for i in range(0, len(arrivedParcels)):\n",
    "            for j in range (0, len(cityData)): \n",
    "                if (arrivedParcels[i] == cityData[j].get_releaseDate()):\n",
    "                    intermediateNodeData.append(cityData[j])\n",
    "    \n",
    "        for item in intermediateNodeData:\n",
    "            tempCoordinates.append(item.get_coordinates())\n",
    "        \n",
    "        tempCoordinates.insert(0, cityData[0].get_coordinates())\n",
    "        #print(tempCoordinates)\n",
    "    \n",
    "        \n",
    "        world = pants.World(tempCoordinates, euclidean)\n",
    "        solver = pants.Solver()\n",
    "        tempDistance = solver.solve(world)\n",
    "        #print(tempDistance.distance)\n",
    "        #print(tempDistance.tour)\n",
    "        \n",
    "        #clear internediate lists\n",
    "        tempCoordinates.clear()\n",
    "        arrivedParcels.clear()\n",
    "    \n",
    "        timeIntermediate = x\n",
    "        finalTime = finalTime + tempDistance.distance\n",
    "        trips = trips + 1\n",
    "        \n",
    "    print('TOTAL TRIPS NEEDED:', trips)\n",
    "        \n",
    "    return finalTime"
   ]
  },
  {
   "cell_type": "code",
   "execution_count": 14,
   "metadata": {
    "scrolled": false
   },
   "outputs": [
    {
     "name": "stdout",
     "output_type": "stream",
     "text": [
      "ARRIVED PARCEL LIST: [19.0]\n",
      "got_first_parcel\n",
      ".....TRIP START.....\n",
      "delivered\n",
      "DELIVERED PARCEL LIST: [19.0]\n",
      "ARRIVED PARCEL LIST: []\n",
      "back on depot\n",
      "ARRIVED PARCEL LIST: [61.0, 76.0, 173.0, 211.0, 344.0, 391.0, 424.0, 570.0, 732.0, 791.0, 819.0, 908.0, 909.0, 1027.0, 1088.0, 1234.0, 1332.0, 1380.0, 1608.0, 1627.0, 1670.0, 1797.0, 1853.0, 2187.0, 2263.0, 2371.0, 2406.0, 2461.0, 2505.0, 2594.0, 2601.0, 2693.0, 2721.0]\n",
      "UPDATED DELIVERED PARCEL LIST:  [19.0, 61.0, 76.0, 173.0, 211.0, 344.0, 391.0, 424.0, 570.0, 732.0, 791.0, 819.0, 908.0, 909.0, 1027.0, 1088.0, 1234.0, 1332.0, 1380.0, 1608.0, 1627.0, 1670.0, 1797.0, 1853.0, 2187.0, 2263.0, 2371.0, 2406.0, 2461.0, 2505.0, 2594.0, 2601.0, 2693.0, 2721.0]\n",
      "ARRIVED PARCEL LIST: [2867.0, 3150.0, 3247.0, 3279.0, 3537.0, 3913.0, 4100.0, 4160.0, 4294.0, 4507.0, 4556.0, 4754.0, 5329.0, 5532.0, 5637.0, 5645.0, 5782.0, 5876.0, 5940.0, 6473.0, 6512.0, 6684.0, 7004.0, 7104.0, 7167.0, 7298.0, 7354.0, 7365.0, 7573.0, 7706.0, 7778.0, 7932.0, 7964.0, 8019.0, 8060.0, 8105.0, 8140.0, 8207.0, 8394.0, 8504.0, 8594.0, 8766.0, 8817.0, 8943.0, 9008.0, 9012.0, 9060.0, 9093.0, 9126.0, 9185.0, 9219.0, 9267.0, 9290.0, 9322.0, 9337.0, 9415.0, 9484.0, 9519.0, 9576.0, 9705.0, 9849.0, 9968.0, 10121.0, 10517.0, 10548.0, 10593.0, 10605.0, 10770.0, 10789.0, 11009.0]\n",
      "UPDATED DELIVERED PARCEL LIST:  [19.0, 61.0, 76.0, 173.0, 211.0, 344.0, 391.0, 424.0, 570.0, 732.0, 791.0, 819.0, 908.0, 909.0, 1027.0, 1088.0, 1234.0, 1332.0, 1380.0, 1608.0, 1627.0, 1670.0, 1797.0, 1853.0, 2187.0, 2263.0, 2371.0, 2406.0, 2461.0, 2505.0, 2594.0, 2601.0, 2693.0, 2721.0, 2867.0, 3150.0, 3247.0, 3279.0, 3537.0, 3913.0, 4100.0, 4160.0, 4294.0, 4507.0, 4556.0, 4754.0, 5329.0, 5532.0, 5637.0, 5645.0, 5782.0, 5876.0, 5940.0, 6473.0, 6512.0, 6684.0, 7004.0, 7104.0, 7167.0, 7298.0, 7354.0, 7365.0, 7573.0, 7706.0, 7778.0, 7932.0, 7964.0, 8019.0, 8060.0, 8105.0, 8140.0, 8207.0, 8394.0, 8504.0, 8594.0, 8766.0, 8817.0, 8943.0, 9008.0, 9012.0, 9060.0, 9093.0, 9126.0, 9185.0, 9219.0, 9267.0, 9290.0, 9322.0, 9337.0, 9415.0, 9484.0, 9519.0, 9576.0, 9705.0, 9849.0, 9968.0, 10121.0, 10517.0, 10548.0, 10593.0, 10605.0, 10770.0, 10789.0, 11009.0]\n",
      "TOTAL TRIPS NEEDED: 3\n",
      "Final Time Taken 34496.61563520846\n"
     ]
    }
   ],
   "source": [
    "time = calculate(0, cityData[0].releaseDates, cityData[0].distances)\n",
    "print('Final Time Taken', time)"
   ]
  },
  {
   "cell_type": "code",
   "execution_count": null,
   "metadata": {},
   "outputs": [],
   "source": []
  }
 ],
 "metadata": {
  "kernelspec": {
   "display_name": "Python 3",
   "language": "python",
   "name": "python3"
  },
  "language_info": {
   "codemirror_mode": {
    "name": "ipython",
    "version": 3
   },
   "file_extension": ".py",
   "mimetype": "text/x-python",
   "name": "python",
   "nbconvert_exporter": "python",
   "pygments_lexer": "ipython3",
   "version": "3.8.1"
  }
 },
 "nbformat": 4,
 "nbformat_minor": 4
}
