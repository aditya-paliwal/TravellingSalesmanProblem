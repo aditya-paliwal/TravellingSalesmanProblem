{
 "cells": [
  {
   "cell_type": "markdown",
   "metadata": {},
   "source": [
    "### Data Preprocessing"
   ]
  },
  {
   "cell_type": "code",
   "execution_count": 2,
   "metadata": {},
   "outputs": [],
   "source": [
    "dataList = []\n",
    "file = 'data.rtf'\n",
    "\n",
    "with open(file) as fp:\n",
    "    dataList = [tuple(map(float, i.split(\" \"))) for i in fp]"
   ]
  },
  {
   "cell_type": "code",
   "execution_count": 3,
   "metadata": {},
   "outputs": [],
   "source": [
    "coordinates = []\n",
    "\n",
    "for data in dataList:\n",
    "    node, x_coord, y_coord = data\n",
    "    coordinates.append(tuple((data[1], data[2])))"
   ]
  },
  {
   "cell_type": "code",
   "execution_count": 46,
   "metadata": {},
   "outputs": [
    {
     "name": "stdout",
     "output_type": "stream",
     "text": [
      "(94.0, 71.0)\n"
     ]
    }
   ],
   "source": [
    "print(coordinates[1])"
   ]
  },
  {
   "cell_type": "markdown",
   "metadata": {},
   "source": [
    "### Step 1: Obtain D(tsp)"
   ]
  },
  {
   "cell_type": "code",
   "execution_count": 5,
   "metadata": {},
   "outputs": [],
   "source": [
    "import pants\n",
    "import math"
   ]
  },
  {
   "cell_type": "code",
   "execution_count": 6,
   "metadata": {},
   "outputs": [],
   "source": [
    "def euclidean(a, b):\n",
    "    return math.sqrt(pow(a[1] - b[1], 2) + pow(a[0] - b[0], 2))"
   ]
  },
  {
   "cell_type": "code",
   "execution_count": 48,
   "metadata": {},
   "outputs": [
    {
     "name": "stdout",
     "output_type": "stream",
     "text": [
      "22158.14040984859\n",
      "[(1276.0, 205.0), (1417.0, 173.0), (1488.0, 291.0), (1551.0, 291.0), (1614.0, 291.0), (1425.0, 291.0), (1362.0, 291.0), (1165.0, 370.0), (992.0, 630.0), (1000.0, 732.0), (528.0, 157.0), (669.0, 142.0), (638.0, 142.0), (606.0, 220.0), (764.0, 220.0), (843.0, 173.0), (811.0, 189.0), (701.0, 142.0), (858.0, 370.0), (709.0, 315.0), (677.0, 315.0), (638.0, 314.0), (638.0, 496.0), (677.0, 496.0), (709.0, 496.0), (921.0, 1213.0), (890.0, 1276.0), (1197.0, 1276.0), (1228.0, 1213.0), (512.0, 1213.0), (480.0, 1276.0), (205.0, 1213.0), (173.0, 1276.0), (283.0, 732.0), (276.0, 630.0), (213.0, 69.0), (244.0, 69.0), (394.0, 69.0), (362.0, 69.0), (583.0, 630.0), (638.0, 654.0), (677.0, 654.0), (709.0, 654.0), (591.0, 732.0), (1307.0, 732.0), (1362.0, 654.0), (1299.0, 630.0), (1488.0, 654.0), (1425.0, 654.0), (1551.0, 654.0), (1614.0, 654.0), (1913.0, 630.0), (1921.0, 732.0), (2276.0, 654.0), (2315.0, 654.0), (2346.0, 654.0), (2228.0, 732.0), (2220.0, 630.0), (2630.0, 630.0), (2638.0, 732.0), (2346.0, 496.0), (2315.0, 496.0), (2276.0, 496.0), (2346.0, 315.0), (2315.0, 315.0), (2276.0, 315.0), (2496.0, 370.0), (2480.0, 142.0), (2402.0, 157.0), (2362.0, 142.0), (2331.0, 142.0), (2244.0, 142.0), (2220.0, 189.0), (2189.0, 205.0), (2087.0, 370.0), (1614.0, 496.0), (1551.0, 496.0), (1488.0, 496.0), (1425.0, 496.0), (1362.0, 496.0), (1780.0, 370.0), (1732.0, 189.0), (2402.0, 220.0), (2906.0, 69.0), (2937.0, 69.0), (3055.0, 69.0), (3087.0, 69.0), (2787.0, 69.0), (2756.0, 69.0), (2803.0, 370.0), (2945.0, 732.0), (2937.0, 630.0), (3016.0, 1276.0), (2866.0, 1213.0), (2835.0, 1276.0), (2528.0, 1276.0), (2559.0, 1213.0), (2150.0, 1213.0), (2118.0, 1276.0), (1843.0, 1213.0), (1811.0, 1276.0), (449.0, 370.0), (142.0, 370.0), (94.0, 71.0), (63.0, 71.0)]\n"
     ]
    }
   ],
   "source": [
    "world = pants.World(coordinates, euclidean)\n",
    "solver = pants.Solver()\n",
    "dTSP = solver.solve(world)\n",
    "print(dTSP.distance)\n",
    "print(dTSP.tour)    # Nodes visited in order"
   ]
  },
  {
   "cell_type": "markdown",
   "metadata": {},
   "source": [
    "##### Here, solutionDistance obtained is D(tsp)"
   ]
  },
  {
   "cell_type": "markdown",
   "metadata": {},
   "source": [
    "### Step 2: Obtain release dates and then add columns"
   ]
  },
  {
   "cell_type": "code",
   "execution_count": 49,
   "metadata": {},
   "outputs": [],
   "source": [
    "import random\n",
    "\n",
    "beta = [0.5, 1, 1.5]\n",
    "lowerBound = 0\n",
    "upperBound1 = int(beta[0]*dTSP.distance)\n",
    "upperBound2 = int(beta[1]*dTSP.distance)\n",
    "upperBound3 = int(beta[2]*dTSP.distance)\n",
    "\n",
    "releaseDate1 = []\n",
    "releaseDate2 = []\n",
    "releaseDate3 = []\n",
    "\n",
    "# setting depo node to 0\n",
    "\n",
    "releaseDate1.insert(0, 0)\n",
    "releaseDate2.insert(0, 0)\n",
    "releaseDate3.insert(0, 0)\n",
    "\n",
    "\n",
    "for i in range(1, len(coordinates)):\n",
    "    releaseDate1.append(random.randint(lowerBound, upperBound1))\n",
    "\n",
    "for i in range(1, len(coordinates)):\n",
    "    releaseDate2.append(random.randint(lowerBound, upperBound2))\n",
    "    \n",
    "for i in range(1, len(coordinates)):\n",
    "    releaseDate3.append(random.randint(lowerBound, upperBound3))"
   ]
  },
  {
   "cell_type": "code",
   "execution_count": 50,
   "metadata": {},
   "outputs": [
    {
     "name": "stdout",
     "output_type": "stream",
     "text": [
      "[0, 10517, 732, 5532, 61, 9126, 2867, 8817, 8207, 1088, 3913, 3537, 8504, 909, 344, 4556, 8394, 76, 5637, 7004, 6512, 7167, 9968, 1670, 3150, 7365, 5876, 1332, 4160, 9415, 9008, 10770, 7573, 10789, 2721, 7932, 4100, 2461, 1853, 9849, 5329, 8943, 10548, 19, 7706, 6473, 9290, 9705, 2505, 6684, 7104, 9060, 424, 5782, 1797, 8140, 7778, 1234, 7298, 4754, 10593, 819, 3247, 173, 908, 10121, 9337, 9219, 2187, 9519, 8019, 2406, 1380, 9576, 1027, 2601, 391, 2693, 1608, 9484, 9093, 4507, 9267, 5940, 2371, 9322, 2594, 1627, 211, 7964, 791, 9185, 8060, 8594, 11009, 8766, 2263, 5645, 10605, 3279, 7354, 570, 9012, 8105, 4294]\n"
     ]
    }
   ],
   "source": [
    "print(releaseDate1)"
   ]
  },
  {
   "cell_type": "code",
   "execution_count": 51,
   "metadata": {},
   "outputs": [
    {
     "name": "stdout",
     "output_type": "stream",
     "text": [
      "[0, 19, 61, 76, 173, 211, 344, 391, 424, 570, 732, 791, 819, 908, 909, 1027, 1088, 1234, 1332, 1380, 1608, 1627, 1670, 1797, 1853, 2187, 2263, 2371, 2406, 2461, 2505, 2594, 2601, 2693, 2721, 2867, 3150, 3247, 3279, 3537, 3913, 4100, 4160, 4294, 4507, 4556, 4754, 5329, 5532, 5637, 5645, 5782, 5876, 5940, 6473, 6512, 6684, 7004, 7104, 7167, 7298, 7354, 7365, 7573, 7706, 7778, 7932, 7964, 8019, 8060, 8105, 8140, 8207, 8394, 8504, 8594, 8766, 8817, 8943, 9008, 9012, 9060, 9093, 9126, 9185, 9219, 9267, 9290, 9322, 9337, 9415, 9484, 9519, 9576, 9705, 9849, 9968, 10121, 10517, 10548, 10593, 10605, 10770, 10789, 11009]\n"
     ]
    }
   ],
   "source": [
    "print(sorted(releaseDate1))"
   ]
  },
  {
   "cell_type": "code",
   "execution_count": 62,
   "metadata": {},
   "outputs": [],
   "source": [
    "import pandas as pd\n",
    "cols = [\"node\", \"x_coord\", \"y_coord\"]"
   ]
  },
  {
   "cell_type": "code",
   "execution_count": 64,
   "metadata": {},
   "outputs": [],
   "source": [
    "data = pd.read_csv('data.rtf', header=None, delimiter=\" \")\n",
    "data.columns = cols"
   ]
  },
  {
   "cell_type": "code",
   "execution_count": 54,
   "metadata": {},
   "outputs": [
    {
     "data": {
      "text/html": [
       "<div>\n",
       "<style scoped>\n",
       "    .dataframe tbody tr th:only-of-type {\n",
       "        vertical-align: middle;\n",
       "    }\n",
       "\n",
       "    .dataframe tbody tr th {\n",
       "        vertical-align: top;\n",
       "    }\n",
       "\n",
       "    .dataframe thead th {\n",
       "        text-align: right;\n",
       "    }\n",
       "</style>\n",
       "<table border=\"1\" class=\"dataframe\">\n",
       "  <thead>\n",
       "    <tr style=\"text-align: right;\">\n",
       "      <th></th>\n",
       "      <th>node</th>\n",
       "      <th>x_coord</th>\n",
       "      <th>y_coord</th>\n",
       "    </tr>\n",
       "  </thead>\n",
       "  <tbody>\n",
       "    <tr>\n",
       "      <th>0</th>\n",
       "      <td>1</td>\n",
       "      <td>63</td>\n",
       "      <td>71</td>\n",
       "    </tr>\n",
       "    <tr>\n",
       "      <th>1</th>\n",
       "      <td>2</td>\n",
       "      <td>94</td>\n",
       "      <td>71</td>\n",
       "    </tr>\n",
       "    <tr>\n",
       "      <th>2</th>\n",
       "      <td>3</td>\n",
       "      <td>142</td>\n",
       "      <td>370</td>\n",
       "    </tr>\n",
       "    <tr>\n",
       "      <th>3</th>\n",
       "      <td>4</td>\n",
       "      <td>173</td>\n",
       "      <td>1276</td>\n",
       "    </tr>\n",
       "    <tr>\n",
       "      <th>4</th>\n",
       "      <td>5</td>\n",
       "      <td>205</td>\n",
       "      <td>1213</td>\n",
       "    </tr>\n",
       "  </tbody>\n",
       "</table>\n",
       "</div>"
      ],
      "text/plain": [
       "   node  x_coord  y_coord\n",
       "0     1       63       71\n",
       "1     2       94       71\n",
       "2     3      142      370\n",
       "3     4      173     1276\n",
       "4     5      205     1213"
      ]
     },
     "execution_count": 54,
     "metadata": {},
     "output_type": "execute_result"
    }
   ],
   "source": [
    "data.head()"
   ]
  },
  {
   "cell_type": "markdown",
   "metadata": {},
   "source": [
    "### Step 3: Split into three different Instances"
   ]
  },
  {
   "cell_type": "code",
   "execution_count": 55,
   "metadata": {},
   "outputs": [],
   "source": [
    "data1 = data.copy()\n",
    "data2 = data.copy()\n",
    "data3 = data.copy()"
   ]
  },
  {
   "cell_type": "code",
   "execution_count": 56,
   "metadata": {},
   "outputs": [],
   "source": [
    "data1['releaseDate'] = releaseDate1\n",
    "data2['releaseDate'] = releaseDate2\n",
    "data3['releaseDate'] = releaseDate3"
   ]
  },
  {
   "cell_type": "code",
   "execution_count": 57,
   "metadata": {},
   "outputs": [
    {
     "data": {
      "text/html": [
       "<div>\n",
       "<style scoped>\n",
       "    .dataframe tbody tr th:only-of-type {\n",
       "        vertical-align: middle;\n",
       "    }\n",
       "\n",
       "    .dataframe tbody tr th {\n",
       "        vertical-align: top;\n",
       "    }\n",
       "\n",
       "    .dataframe thead th {\n",
       "        text-align: right;\n",
       "    }\n",
       "</style>\n",
       "<table border=\"1\" class=\"dataframe\">\n",
       "  <thead>\n",
       "    <tr style=\"text-align: right;\">\n",
       "      <th></th>\n",
       "      <th>node</th>\n",
       "      <th>x_coord</th>\n",
       "      <th>y_coord</th>\n",
       "      <th>releaseDate</th>\n",
       "    </tr>\n",
       "  </thead>\n",
       "  <tbody>\n",
       "    <tr>\n",
       "      <th>0</th>\n",
       "      <td>1</td>\n",
       "      <td>63</td>\n",
       "      <td>71</td>\n",
       "      <td>0</td>\n",
       "    </tr>\n",
       "    <tr>\n",
       "      <th>1</th>\n",
       "      <td>2</td>\n",
       "      <td>94</td>\n",
       "      <td>71</td>\n",
       "      <td>19680</td>\n",
       "    </tr>\n",
       "    <tr>\n",
       "      <th>2</th>\n",
       "      <td>3</td>\n",
       "      <td>142</td>\n",
       "      <td>370</td>\n",
       "      <td>23500</td>\n",
       "    </tr>\n",
       "    <tr>\n",
       "      <th>3</th>\n",
       "      <td>4</td>\n",
       "      <td>173</td>\n",
       "      <td>1276</td>\n",
       "      <td>28100</td>\n",
       "    </tr>\n",
       "    <tr>\n",
       "      <th>4</th>\n",
       "      <td>5</td>\n",
       "      <td>205</td>\n",
       "      <td>1213</td>\n",
       "      <td>15706</td>\n",
       "    </tr>\n",
       "    <tr>\n",
       "      <th>5</th>\n",
       "      <td>6</td>\n",
       "      <td>213</td>\n",
       "      <td>69</td>\n",
       "      <td>2425</td>\n",
       "    </tr>\n",
       "    <tr>\n",
       "      <th>6</th>\n",
       "      <td>7</td>\n",
       "      <td>244</td>\n",
       "      <td>69</td>\n",
       "      <td>1225</td>\n",
       "    </tr>\n",
       "    <tr>\n",
       "      <th>7</th>\n",
       "      <td>8</td>\n",
       "      <td>276</td>\n",
       "      <td>630</td>\n",
       "      <td>13118</td>\n",
       "    </tr>\n",
       "    <tr>\n",
       "      <th>8</th>\n",
       "      <td>9</td>\n",
       "      <td>283</td>\n",
       "      <td>732</td>\n",
       "      <td>19431</td>\n",
       "    </tr>\n",
       "    <tr>\n",
       "      <th>9</th>\n",
       "      <td>10</td>\n",
       "      <td>362</td>\n",
       "      <td>69</td>\n",
       "      <td>10014</td>\n",
       "    </tr>\n",
       "  </tbody>\n",
       "</table>\n",
       "</div>"
      ],
      "text/plain": [
       "   node  x_coord  y_coord  releaseDate\n",
       "0     1       63       71            0\n",
       "1     2       94       71        19680\n",
       "2     3      142      370        23500\n",
       "3     4      173     1276        28100\n",
       "4     5      205     1213        15706\n",
       "5     6      213       69         2425\n",
       "6     7      244       69         1225\n",
       "7     8      276      630        13118\n",
       "8     9      283      732        19431\n",
       "9    10      362       69        10014"
      ]
     },
     "execution_count": 57,
     "metadata": {},
     "output_type": "execute_result"
    }
   ],
   "source": [
    "data3.head(10)"
   ]
  },
  {
   "cell_type": "markdown",
   "metadata": {},
   "source": [
    "### Step 4: Sort coordinates based on release dates"
   ]
  },
  {
   "cell_type": "code",
   "execution_count": 58,
   "metadata": {},
   "outputs": [],
   "source": [
    "data1 = data1.sort_values(by = 'releaseDate')\n",
    "data2 = data2.sort_values(by = 'releaseDate')\n",
    "data3 = data3.sort_values(by = 'releaseDate')"
   ]
  },
  {
   "cell_type": "code",
   "execution_count": 68,
   "metadata": {},
   "outputs": [
    {
     "data": {
      "text/html": [
       "<div>\n",
       "<style scoped>\n",
       "    .dataframe tbody tr th:only-of-type {\n",
       "        vertical-align: middle;\n",
       "    }\n",
       "\n",
       "    .dataframe tbody tr th {\n",
       "        vertical-align: top;\n",
       "    }\n",
       "\n",
       "    .dataframe thead th {\n",
       "        text-align: right;\n",
       "    }\n",
       "</style>\n",
       "<table border=\"1\" class=\"dataframe\">\n",
       "  <thead>\n",
       "    <tr style=\"text-align: right;\">\n",
       "      <th></th>\n",
       "      <th>node</th>\n",
       "      <th>x_coord</th>\n",
       "      <th>y_coord</th>\n",
       "      <th>releaseDate</th>\n",
       "    </tr>\n",
       "  </thead>\n",
       "  <tbody>\n",
       "    <tr>\n",
       "      <th>0</th>\n",
       "      <td>1</td>\n",
       "      <td>63</td>\n",
       "      <td>71</td>\n",
       "      <td>0</td>\n",
       "    </tr>\n",
       "    <tr>\n",
       "      <th>43</th>\n",
       "      <td>44</td>\n",
       "      <td>1362</td>\n",
       "      <td>496</td>\n",
       "      <td>19</td>\n",
       "    </tr>\n",
       "    <tr>\n",
       "      <th>4</th>\n",
       "      <td>5</td>\n",
       "      <td>205</td>\n",
       "      <td>1213</td>\n",
       "      <td>61</td>\n",
       "    </tr>\n",
       "    <tr>\n",
       "      <th>17</th>\n",
       "      <td>18</td>\n",
       "      <td>638</td>\n",
       "      <td>654</td>\n",
       "      <td>76</td>\n",
       "    </tr>\n",
       "    <tr>\n",
       "      <th>63</th>\n",
       "      <td>64</td>\n",
       "      <td>2087</td>\n",
       "      <td>370</td>\n",
       "      <td>173</td>\n",
       "    </tr>\n",
       "    <tr>\n",
       "      <th>88</th>\n",
       "      <td>89</td>\n",
       "      <td>2630</td>\n",
       "      <td>630</td>\n",
       "      <td>211</td>\n",
       "    </tr>\n",
       "    <tr>\n",
       "      <th>14</th>\n",
       "      <td>15</td>\n",
       "      <td>528</td>\n",
       "      <td>157</td>\n",
       "      <td>344</td>\n",
       "    </tr>\n",
       "    <tr>\n",
       "      <th>76</th>\n",
       "      <td>77</td>\n",
       "      <td>2315</td>\n",
       "      <td>315</td>\n",
       "      <td>391</td>\n",
       "    </tr>\n",
       "    <tr>\n",
       "      <th>52</th>\n",
       "      <td>53</td>\n",
       "      <td>1551</td>\n",
       "      <td>654</td>\n",
       "      <td>424</td>\n",
       "    </tr>\n",
       "    <tr>\n",
       "      <th>101</th>\n",
       "      <td>102</td>\n",
       "      <td>3087</td>\n",
       "      <td>69</td>\n",
       "      <td>570</td>\n",
       "    </tr>\n",
       "  </tbody>\n",
       "</table>\n",
       "</div>"
      ],
      "text/plain": [
       "     node  x_coord  y_coord  releaseDate\n",
       "0       1       63       71            0\n",
       "43     44     1362      496           19\n",
       "4       5      205     1213           61\n",
       "17     18      638      654           76\n",
       "63     64     2087      370          173\n",
       "88     89     2630      630          211\n",
       "14     15      528      157          344\n",
       "76     77     2315      315          391\n",
       "52     53     1551      654          424\n",
       "101   102     3087       69          570"
      ]
     },
     "execution_count": 68,
     "metadata": {},
     "output_type": "execute_result"
    }
   ],
   "source": [
    "data1.head(10)"
   ]
  },
  {
   "cell_type": "code",
   "execution_count": 67,
   "metadata": {},
   "outputs": [],
   "source": [
    "# save instances to CSV file for algorithm implementation\n",
    "\n",
    "data1.to_csv('data1', index=False, header=False)"
   ]
  },
  {
   "cell_type": "code",
   "execution_count": null,
   "metadata": {},
   "outputs": [],
   "source": []
  }
 ],
 "metadata": {
  "kernelspec": {
   "display_name": "Python 3",
   "language": "python",
   "name": "python3"
  },
  "language_info": {
   "codemirror_mode": {
    "name": "ipython",
    "version": 3
   },
   "file_extension": ".py",
   "mimetype": "text/x-python",
   "name": "python",
   "nbconvert_exporter": "python",
   "pygments_lexer": "ipython3",
   "version": "3.8.1"
  }
 },
 "nbformat": 4,
 "nbformat_minor": 4
}
