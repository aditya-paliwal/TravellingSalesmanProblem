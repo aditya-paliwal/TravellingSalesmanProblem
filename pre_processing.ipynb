{
 "cells": [
  {
   "cell_type": "markdown",
   "metadata": {},
   "source": [
    "### Data Preprocessing"
   ]
  },
  {
   "cell_type": "code",
   "execution_count": 49,
   "metadata": {},
   "outputs": [],
   "source": [
    "dataList = []\n",
    "file = 'data.rtf'\n",
    "\n",
    "with open(file) as fp:\n",
    "    dataList = [tuple(map(float, i.split(\" \"))) for i in fp]"
   ]
  },
  {
   "cell_type": "code",
   "execution_count": 50,
   "metadata": {},
   "outputs": [],
   "source": [
    "coordinates = []\n",
    "\n",
    "for data in dataList:\n",
    "    node, x_coord, y_coord = data\n",
    "    coordinates.append(tuple((data[1], data[2])))"
   ]
  },
  {
   "cell_type": "code",
   "execution_count": 51,
   "metadata": {},
   "outputs": [
    {
     "name": "stdout",
     "output_type": "stream",
     "text": [
      "[(63.0, 71.0), (94.0, 71.0), (142.0, 370.0), (173.0, 1276.0), (205.0, 1213.0), (213.0, 69.0), (244.0, 69.0), (276.0, 630.0), (283.0, 732.0), (362.0, 69.0), (394.0, 69.0), (449.0, 370.0), (480.0, 1276.0), (512.0, 1213.0), (528.0, 157.0), (583.0, 630.0), (591.0, 732.0), (638.0, 654.0), (638.0, 496.0), (638.0, 314.0), (638.0, 142.0), (669.0, 142.0), (677.0, 315.0), (677.0, 496.0), (677.0, 654.0), (709.0, 654.0), (709.0, 496.0), (709.0, 315.0), (701.0, 142.0), (764.0, 220.0), (811.0, 189.0), (843.0, 173.0), (858.0, 370.0), (890.0, 1276.0), (921.0, 1213.0), (992.0, 630.0), (1000.0, 732.0), (1197.0, 1276.0), (1228.0, 1213.0), (1276.0, 205.0), (1299.0, 630.0), (1307.0, 732.0), (1362.0, 654.0), (1362.0, 496.0), (1362.0, 291.0), (1425.0, 654.0), (1425.0, 496.0), (1425.0, 291.0), (1417.0, 173.0), (1488.0, 291.0), (1488.0, 496.0), (1488.0, 654.0), (1551.0, 654.0), (1551.0, 496.0), (1551.0, 291.0), (1614.0, 291.0), (1614.0, 496.0), (1614.0, 654.0), (1732.0, 189.0), (1811.0, 1276.0), (1843.0, 1213.0), (1913.0, 630.0), (1921.0, 732.0), (2087.0, 370.0), (2118.0, 1276.0), (2150.0, 1213.0), (2189.0, 205.0), (2220.0, 189.0), (2220.0, 630.0), (2228.0, 732.0), (2244.0, 142.0), (2276.0, 315.0), (2276.0, 496.0), (2276.0, 654.0), (2315.0, 654.0), (2315.0, 496.0), (2315.0, 315.0), (2331.0, 142.0), (2346.0, 315.0), (2346.0, 496.0), (2346.0, 654.0), (2362.0, 142.0), (2402.0, 157.0), (2402.0, 220.0), (2480.0, 142.0), (2496.0, 370.0), (2528.0, 1276.0), (2559.0, 1213.0), (2630.0, 630.0), (2638.0, 732.0), (2756.0, 69.0), (2787.0, 69.0), (2803.0, 370.0), (2835.0, 1276.0), (2866.0, 1213.0), (2906.0, 69.0), (2937.0, 69.0), (2937.0, 630.0), (2945.0, 732.0), (3016.0, 1276.0), (3055.0, 69.0), (3087.0, 69.0), (606.0, 220.0), (1165.0, 370.0), (1780.0, 370.0)]\n"
     ]
    }
   ],
   "source": [
    "print(coordinates)"
   ]
  },
  {
   "cell_type": "markdown",
   "metadata": {},
   "source": [
    "### Step 1: Obtain D(tsp)"
   ]
  },
  {
   "cell_type": "code",
   "execution_count": 52,
   "metadata": {},
   "outputs": [],
   "source": [
    "import pants\n",
    "import math"
   ]
  },
  {
   "cell_type": "code",
   "execution_count": 53,
   "metadata": {},
   "outputs": [],
   "source": [
    "def euclidean(a, b):\n",
    "    return math.sqrt(pow(a[1] - b[1], 2) + pow(a[0] - b[0], 2))"
   ]
  },
  {
   "cell_type": "code",
   "execution_count": 54,
   "metadata": {},
   "outputs": [
    {
     "name": "stdout",
     "output_type": "stream",
     "text": [
      "21399.8471605471\n",
      "[(2346.0, 654.0), (2315.0, 654.0), (2276.0, 654.0), (2220.0, 630.0), (2228.0, 732.0), (2276.0, 496.0), (2315.0, 496.0), (2346.0, 496.0), (2315.0, 315.0), (2346.0, 315.0), (2402.0, 220.0), (2402.0, 157.0), (2362.0, 142.0), (2331.0, 142.0), (2244.0, 142.0), (2220.0, 189.0), (2189.0, 205.0), (2276.0, 315.0), (2480.0, 142.0), (2787.0, 69.0), (2756.0, 69.0), (2906.0, 69.0), (2937.0, 69.0), (3055.0, 69.0), (3087.0, 69.0), (2937.0, 630.0), (2945.0, 732.0), (2638.0, 732.0), (2630.0, 630.0), (1913.0, 630.0), (1921.0, 732.0), (1843.0, 1213.0), (1811.0, 1276.0), (1307.0, 732.0), (1362.0, 654.0), (1425.0, 654.0), (1488.0, 654.0), (1551.0, 654.0), (1614.0, 654.0), (1551.0, 496.0), (1614.0, 496.0), (1417.0, 173.0), (1488.0, 291.0), (1425.0, 291.0), (1362.0, 291.0), (1276.0, 205.0), (1165.0, 370.0), (1299.0, 630.0), (1425.0, 496.0), (1362.0, 496.0), (1488.0, 496.0), (858.0, 370.0), (764.0, 220.0), (811.0, 189.0), (843.0, 173.0), (677.0, 496.0), (709.0, 496.0), (638.0, 496.0), (677.0, 315.0), (709.0, 315.0), (638.0, 314.0), (606.0, 220.0), (638.0, 142.0), (669.0, 142.0), (701.0, 142.0), (94.0, 71.0), (63.0, 71.0), (244.0, 69.0), (213.0, 69.0), (362.0, 69.0), (394.0, 69.0), (528.0, 157.0), (449.0, 370.0), (142.0, 370.0), (276.0, 630.0), (283.0, 732.0), (890.0, 1276.0), (921.0, 1213.0), (512.0, 1213.0), (480.0, 1276.0), (173.0, 1276.0), (205.0, 1213.0), (591.0, 732.0), (638.0, 654.0), (677.0, 654.0), (709.0, 654.0), (583.0, 630.0), (1228.0, 1213.0), (1197.0, 1276.0), (1000.0, 732.0), (992.0, 630.0), (1551.0, 291.0), (1614.0, 291.0), (1732.0, 189.0), (2087.0, 370.0), (1780.0, 370.0), (2496.0, 370.0), (2803.0, 370.0), (2835.0, 1276.0), (2866.0, 1213.0), (3016.0, 1276.0), (2528.0, 1276.0), (2559.0, 1213.0), (2118.0, 1276.0), (2150.0, 1213.0)]\n"
     ]
    }
   ],
   "source": [
    "world = pants.World(coordinates, euclidean)\n",
    "solver = pants.Solver()\n",
    "dTSP = solver.solve(world)\n",
    "print(dTSP.distance)\n",
    "print(dTSP.tour)    # Nodes visited in order"
   ]
  },
  {
   "cell_type": "markdown",
   "metadata": {},
   "source": [
    "##### Here, solutionDistance obtained is D(tsp)"
   ]
  },
  {
   "cell_type": "markdown",
   "metadata": {},
   "source": [
    "### Step 2: Obtain release dates and then add columns"
   ]
  },
  {
   "cell_type": "code",
   "execution_count": 55,
   "metadata": {},
   "outputs": [],
   "source": [
    "import random\n",
    "\n",
    "beta = [0.5, 1, 1.5]\n",
    "lowerBound = 0\n",
    "upperBound1 = int(beta[0]*dTSP.distance)\n",
    "upperBound2 = int(beta[1]*dTSP.distance)\n",
    "upperBound3 = int(beta[2]*dTSP.distance)\n",
    "\n",
    "releaseDate1 = []\n",
    "releaseDate2 = []\n",
    "releaseDate3 = []\n",
    "\n",
    "for i in range(len(coordinates)):\n",
    "    releaseDate1.append(random.randint(lowerBound, upperBound1))\n",
    "\n",
    "for i in range(len(coordinates)):\n",
    "    releaseDate2.append(random.randint(lowerBound, upperBound2))\n",
    "    \n",
    "for i in range(len(coordinates)):\n",
    "    releaseDate3.append(random.randint(lowerBound, upperBound3))"
   ]
  },
  {
   "cell_type": "code",
   "execution_count": 56,
   "metadata": {},
   "outputs": [
    {
     "name": "stdout",
     "output_type": "stream",
     "text": [
      "[5181, 5788, 1149, 7949, 1158, 7754, 7784, 9404, 1790, 9924, 10422, 4180, 4149, 2369, 6326, 5283, 9553, 6352, 7101, 7234, 3644, 6462, 3179, 8579, 4454, 3323, 5058, 9008, 229, 5732, 8, 7932, 8087, 9992, 1706, 5444, 9156, 3163, 5946, 4150, 1960, 8942, 10011, 7576, 4131, 7512, 3353, 3466, 7609, 10178, 6723, 2063, 3797, 3891, 1713, 5284, 3949, 5113, 10616, 1258, 291, 2540, 6756, 10698, 6108, 2073, 9591, 10204, 1983, 3630, 10076, 8488, 10154, 169, 6821, 1186, 7809, 598, 6618, 3981, 6544, 5748, 7827, 3066, 7101, 2101, 3377, 5472, 7927, 440, 5381, 5510, 3229, 7261, 3710, 1780, 7665, 9586, 7626, 8351, 3687, 4486, 9707, 1638, 1840]\n"
     ]
    }
   ],
   "source": [
    "print(releaseDate1)"
   ]
  },
  {
   "cell_type": "code",
   "execution_count": 66,
   "metadata": {},
   "outputs": [],
   "source": [
    "import pandas as pd\n",
    "cols = [\"node\", \"x_coord\", \"y_coord\"]"
   ]
  },
  {
   "cell_type": "code",
   "execution_count": 67,
   "metadata": {},
   "outputs": [],
   "source": [
    "data = pd.read_csv('data.rtf', header=None, delimiter=\" \")\n",
    "data.columns = cols"
   ]
  },
  {
   "cell_type": "code",
   "execution_count": 68,
   "metadata": {},
   "outputs": [
    {
     "data": {
      "text/html": [
       "<div>\n",
       "<style scoped>\n",
       "    .dataframe tbody tr th:only-of-type {\n",
       "        vertical-align: middle;\n",
       "    }\n",
       "\n",
       "    .dataframe tbody tr th {\n",
       "        vertical-align: top;\n",
       "    }\n",
       "\n",
       "    .dataframe thead th {\n",
       "        text-align: right;\n",
       "    }\n",
       "</style>\n",
       "<table border=\"1\" class=\"dataframe\">\n",
       "  <thead>\n",
       "    <tr style=\"text-align: right;\">\n",
       "      <th></th>\n",
       "      <th>node</th>\n",
       "      <th>x_coord</th>\n",
       "      <th>y_coord</th>\n",
       "    </tr>\n",
       "  </thead>\n",
       "  <tbody>\n",
       "    <tr>\n",
       "      <th>0</th>\n",
       "      <td>1</td>\n",
       "      <td>63</td>\n",
       "      <td>71</td>\n",
       "    </tr>\n",
       "    <tr>\n",
       "      <th>1</th>\n",
       "      <td>2</td>\n",
       "      <td>94</td>\n",
       "      <td>71</td>\n",
       "    </tr>\n",
       "    <tr>\n",
       "      <th>2</th>\n",
       "      <td>3</td>\n",
       "      <td>142</td>\n",
       "      <td>370</td>\n",
       "    </tr>\n",
       "    <tr>\n",
       "      <th>3</th>\n",
       "      <td>4</td>\n",
       "      <td>173</td>\n",
       "      <td>1276</td>\n",
       "    </tr>\n",
       "    <tr>\n",
       "      <th>4</th>\n",
       "      <td>5</td>\n",
       "      <td>205</td>\n",
       "      <td>1213</td>\n",
       "    </tr>\n",
       "  </tbody>\n",
       "</table>\n",
       "</div>"
      ],
      "text/plain": [
       "   node  x_coord  y_coord\n",
       "0     1       63       71\n",
       "1     2       94       71\n",
       "2     3      142      370\n",
       "3     4      173     1276\n",
       "4     5      205     1213"
      ]
     },
     "execution_count": 68,
     "metadata": {},
     "output_type": "execute_result"
    }
   ],
   "source": [
    "data.head()"
   ]
  },
  {
   "cell_type": "code",
   "execution_count": 69,
   "metadata": {},
   "outputs": [],
   "source": [
    "data['releaseDate1'] = releaseDate1\n",
    "data['releaseDate2'] = releaseDate2\n",
    "data['releaseDate3'] = releaseDate3"
   ]
  },
  {
   "cell_type": "code",
   "execution_count": 70,
   "metadata": {},
   "outputs": [
    {
     "data": {
      "text/html": [
       "<div>\n",
       "<style scoped>\n",
       "    .dataframe tbody tr th:only-of-type {\n",
       "        vertical-align: middle;\n",
       "    }\n",
       "\n",
       "    .dataframe tbody tr th {\n",
       "        vertical-align: top;\n",
       "    }\n",
       "\n",
       "    .dataframe thead th {\n",
       "        text-align: right;\n",
       "    }\n",
       "</style>\n",
       "<table border=\"1\" class=\"dataframe\">\n",
       "  <thead>\n",
       "    <tr style=\"text-align: right;\">\n",
       "      <th></th>\n",
       "      <th>node</th>\n",
       "      <th>x_coord</th>\n",
       "      <th>y_coord</th>\n",
       "      <th>releaseDate1</th>\n",
       "      <th>releaseDate2</th>\n",
       "      <th>releaseDate3</th>\n",
       "    </tr>\n",
       "  </thead>\n",
       "  <tbody>\n",
       "    <tr>\n",
       "      <th>0</th>\n",
       "      <td>1</td>\n",
       "      <td>63</td>\n",
       "      <td>71</td>\n",
       "      <td>5181</td>\n",
       "      <td>8052</td>\n",
       "      <td>6732</td>\n",
       "    </tr>\n",
       "    <tr>\n",
       "      <th>1</th>\n",
       "      <td>2</td>\n",
       "      <td>94</td>\n",
       "      <td>71</td>\n",
       "      <td>5788</td>\n",
       "      <td>13422</td>\n",
       "      <td>22962</td>\n",
       "    </tr>\n",
       "    <tr>\n",
       "      <th>2</th>\n",
       "      <td>3</td>\n",
       "      <td>142</td>\n",
       "      <td>370</td>\n",
       "      <td>1149</td>\n",
       "      <td>14356</td>\n",
       "      <td>25921</td>\n",
       "    </tr>\n",
       "    <tr>\n",
       "      <th>3</th>\n",
       "      <td>4</td>\n",
       "      <td>173</td>\n",
       "      <td>1276</td>\n",
       "      <td>7949</td>\n",
       "      <td>4610</td>\n",
       "      <td>7914</td>\n",
       "    </tr>\n",
       "    <tr>\n",
       "      <th>4</th>\n",
       "      <td>5</td>\n",
       "      <td>205</td>\n",
       "      <td>1213</td>\n",
       "      <td>1158</td>\n",
       "      <td>8566</td>\n",
       "      <td>30531</td>\n",
       "    </tr>\n",
       "  </tbody>\n",
       "</table>\n",
       "</div>"
      ],
      "text/plain": [
       "   node  x_coord  y_coord  releaseDate1  releaseDate2  releaseDate3\n",
       "0     1       63       71          5181          8052          6732\n",
       "1     2       94       71          5788         13422         22962\n",
       "2     3      142      370          1149         14356         25921\n",
       "3     4      173     1276          7949          4610          7914\n",
       "4     5      205     1213          1158          8566         30531"
      ]
     },
     "execution_count": 70,
     "metadata": {},
     "output_type": "execute_result"
    }
   ],
   "source": [
    "data.head()"
   ]
  },
  {
   "cell_type": "code",
   "execution_count": null,
   "metadata": {},
   "outputs": [],
   "source": []
  }
 ],
 "metadata": {
  "kernelspec": {
   "display_name": "Python 3",
   "language": "python",
   "name": "python3"
  },
  "language_info": {
   "codemirror_mode": {
    "name": "ipython",
    "version": 3
   },
   "file_extension": ".py",
   "mimetype": "text/x-python",
   "name": "python",
   "nbconvert_exporter": "python",
   "pygments_lexer": "ipython3",
   "version": "3.8.1"
  }
 },
 "nbformat": 4,
 "nbformat_minor": 4
}
