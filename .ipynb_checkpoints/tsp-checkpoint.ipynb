{
 "cells": [
  {
   "cell_type": "code",
   "execution_count": 53,
   "metadata": {},
   "outputs": [],
   "source": [
    "import math\n",
    "import pants\n",
    "\n",
    "class Node:\n",
    "    def __init__(self, node, x_coord, y_coord):\n",
    "        self.node = node\n",
    "        self.x_coord = x_coord\n",
    "        self.y_coord = y_coord\n",
    "        self.distances = []\n",
    "        \n",
    "    def add_distance(self, Node):\n",
    "        x1 = self.x_coord\n",
    "        x2 = Node.x_coord\n",
    "        y1 = self.y_coord\n",
    "        y2 = Node.y_coord\n",
    "        \n",
    "        dist = ((x2-x1)**2 + (y2-y1)**2)**0.5\n",
    "        self.distances.append((Node.node, dist))\n",
    "    \n",
    "    def remove_distance(self, Node):\n",
    "        for data in self.distances:\n",
    "            node, distance = data\n",
    "            if node == Node.node:\n",
    "                self.distances.remove(data)\n",
    "                \n",
    "    def get_coordinates(self):\n",
    "        x = self.x_coord\n",
    "        y = self.y_coord\n",
    "        \n",
    "        position = (x,y)\n",
    "        \n",
    "        return position"
   ]
  },
  {
   "cell_type": "code",
   "execution_count": 54,
   "metadata": {},
   "outputs": [],
   "source": [
    "city1 = Node(1, 2.345, 8.908)\n",
    "city2 = Node(2, 4.567, 5.239)"
   ]
  },
  {
   "cell_type": "code",
   "execution_count": 55,
   "metadata": {},
   "outputs": [
    {
     "name": "stdout",
     "output_type": "stream",
     "text": [
      "<bound method Node.get_coordinates of <__main__.Node object at 0x112fadf10>>\n"
     ]
    }
   ],
   "source": [
    "print(city1.get_coordinates)"
   ]
  },
  {
   "cell_type": "code",
   "execution_count": 29,
   "metadata": {},
   "outputs": [],
   "source": [
    "city1.add_distance(city2)"
   ]
  },
  {
   "cell_type": "code",
   "execution_count": 30,
   "metadata": {},
   "outputs": [
    {
     "name": "stdout",
     "output_type": "stream",
     "text": [
      "[(2, 4.289387485410941)]\n"
     ]
    }
   ],
   "source": [
    "print(city1.distances)"
   ]
  },
  {
   "cell_type": "code",
   "execution_count": 31,
   "metadata": {},
   "outputs": [],
   "source": [
    "city1.remove_distance(city2)"
   ]
  },
  {
   "cell_type": "code",
   "execution_count": 32,
   "metadata": {},
   "outputs": [
    {
     "name": "stdout",
     "output_type": "stream",
     "text": [
      "[]\n"
     ]
    }
   ],
   "source": [
    "print(city1.distances)"
   ]
  },
  {
   "cell_type": "code",
   "execution_count": 33,
   "metadata": {},
   "outputs": [],
   "source": [
    "list = []\n",
    "file = 'data.rtf'\n",
    "\n",
    "with open(file) as fp:\n",
    "    list = [tuple(map(float, i.split(\" \"))) for i in fp]"
   ]
  },
  {
   "cell_type": "code",
   "execution_count": 34,
   "metadata": {},
   "outputs": [],
   "source": [
    "cityData = []\n",
    "for data in list:\n",
    "    node, x_coord, y_coord = data\n",
    "    cityData.append(Node(node, x_coord, y_coord))"
   ]
  },
  {
   "cell_type": "code",
   "execution_count": 35,
   "metadata": {},
   "outputs": [
    {
     "name": "stdout",
     "output_type": "stream",
     "text": [
      "105\n"
     ]
    }
   ],
   "source": [
    "print(len(cityData))"
   ]
  },
  {
   "cell_type": "code",
   "execution_count": 36,
   "metadata": {},
   "outputs": [],
   "source": [
    "cityData[0].add_distance(cityData[3])"
   ]
  },
  {
   "cell_type": "code",
   "execution_count": 37,
   "metadata": {},
   "outputs": [
    {
     "name": "stdout",
     "output_type": "stream",
     "text": [
      "[(4.0, 1210.0103305344132)]\n"
     ]
    }
   ],
   "source": [
    "print(cityData[0].distances)"
   ]
  },
  {
   "cell_type": "code",
   "execution_count": 38,
   "metadata": {},
   "outputs": [],
   "source": [
    "distances = []\n",
    "for i in range(0, len(cityData)):\n",
    "    for j in range(0, len(cityData)-1):\n",
    "        distances.append(cityData[i].add_distance(cityData[j]))"
   ]
  },
  {
   "cell_type": "code",
   "execution_count": 39,
   "metadata": {},
   "outputs": [
    {
     "name": "stdout",
     "output_type": "stream",
     "text": [
      "[(1.0, 696.6498403071661), (2.0, 687.4896362855225), (3.0, 388.4906691286163), (4.0, 555.0099098214373), (5.0, 487.2832851637741), (6.0, 666.6850830789601), (7.0, 664.1460682711296), (8.0, 102.23991392797629), (9.0, 0.0), (10.0, 667.6900478515462), (11.0, 672.2276400148985), (12.0, 398.24615503479754), (13.0, 578.5715167548434), (14.0, 532.7307011990205), (15.0, 625.0199996800102), (16.0, 316.86590223626143), (17.0, 308.0), (18.0, 363.46801785026423), (19.0, 426.28746169691647), (20.0, 548.405871595117), (21.0, 688.5673532778039), (22.0, 705.050352811769), (23.0, 573.6941693969009), (24.0, 459.2733390912214), (25.0, 401.6466108409232), (26.0, 433.0819783828461), (27.0, 487.00308007239545), (28.0, 596.124986894527), (29.0, 723.0656954938465), (30.0, 702.4991103197214), (31.0, 757.3856349311096), (32.0, 791.2528041024563), (33.0, 679.4622874008535), (34.0, 815.0981535986939), (35.0, 799.0025031249902), (36.0, 716.2995183580679), (37.0, 717.0), (38.0, 1063.6409168511711), (39.0, 1060.3706899004706), (40.0, 1124.1788113996813), (41.0, 1021.1072421641128), (42.0, 1024.0), (43.0, 1081.8156035110605), (44.0, 1104.5075825905406), (45.0, 1165.6423122038768), (46.0, 1144.660648401962), (47.0, 1166.1303529194324), (48.0, 1224.191569975876), (49.0, 1264.2930831100832), (50.0, 1283.1624994520375), (51.0, 1227.892910640012), (52.0, 1207.5218424525497), (53.0, 1270.3967884090387), (54.0, 1289.7751742067296), (55.0, 1342.499534450571), (56.0, 1402.1561967198948), (57.0, 1351.7607036750255), (58.0, 1333.2835407369282), (59.0, 1547.4010469170557), (60.0, 1621.9494443415922), (61.0, 1632.4708266918585), (62.0, 1633.1882928799116), (63.0, 1638.0), (64.0, 1839.9619561284412), (65.0, 1913.9386092557932), (66.0, 1927.9652486494667), (67.0, 1977.51485455862), (68.0, 2011.6704501483339), (69.0, 1939.683737107676), (70.0, 1945.0), (71.0, 2047.8332451642639), (72.0, 2036.1576559785344), (73.0, 2006.9242636432498), (74.0, 1994.5257581690942), (75.0, 2033.4964961858184), (76.0, 2045.65881808282), (77.0, 2074.346403087006), (78.0, 2131.2916271594554), (79.0, 2104.7227845965845), (80.0, 2076.45491162221), (81.0, 2064.4740250242917), (82.0, 2161.0971750478966), (83.0, 2195.6288393077734), (84.0, 2179.978210900283), (85.0, 2274.8426319198434), (86.0, 2242.4123171263577), (87.0, 2309.96991322398), (88.0, 2326.2710504152346), (89.0, 2349.2154009370875), (90.0, 2355.0), (91.0, 2560.3316191462386), (92.0, 2590.2866636725753), (93.0, 2545.868024859105), (94.0, 2609.3370805628006), (95.0, 2627.403661411775), (96.0, 2705.494039912119), (97.0, 2735.5593577913824), (98.0, 2655.959337038126), (99.0, 2662.0), (100.0, 2786.615330468129), (101.0, 2850.1847308551773), (102.0, 2881.3165393618247), (103.0, 605.3701347109882), (104.0, 953.3981329958644)]\n"
     ]
    }
   ],
   "source": [
    "print(cityData[8].distances)"
   ]
  },
  {
   "cell_type": "code",
   "execution_count": 45,
   "metadata": {},
   "outputs": [],
   "source": [
    "list_coordinates = []\n",
    "\n",
    "for item in cityData:\n",
    "        list_coordinates.append(item.get_coordinates)"
   ]
  },
  {
   "cell_type": "code",
   "execution_count": 46,
   "metadata": {},
   "outputs": [
    {
     "name": "stdout",
     "output_type": "stream",
     "text": [
      "105\n"
     ]
    }
   ],
   "source": [
    "print(len(list_coordinates))"
   ]
  },
  {
   "cell_type": "code",
   "execution_count": 47,
   "metadata": {},
   "outputs": [],
   "source": [
    "def euclidean(a, b):\n",
    "    return math.sqrt(pow(a[1] - b[1], 2) + pow(a[0] - b[0], 2))"
   ]
  },
  {
   "cell_type": "code",
   "execution_count": 48,
   "metadata": {},
   "outputs": [
    {
     "ename": "TypeError",
     "evalue": "'method' object is not subscriptable",
     "output_type": "error",
     "traceback": [
      "\u001b[0;31m---------------------------------------------------------------------------\u001b[0m",
      "\u001b[0;31mTypeError\u001b[0m                                 Traceback (most recent call last)",
      "\u001b[0;32m<ipython-input-48-257dbb49854b>\u001b[0m in \u001b[0;36m<module>\u001b[0;34m\u001b[0m\n\u001b[0;32m----> 1\u001b[0;31m \u001b[0mworld\u001b[0m \u001b[0;34m=\u001b[0m \u001b[0mpants\u001b[0m\u001b[0;34m.\u001b[0m\u001b[0mWorld\u001b[0m\u001b[0;34m(\u001b[0m\u001b[0mlist_coordinates\u001b[0m\u001b[0;34m,\u001b[0m \u001b[0meuclidean\u001b[0m\u001b[0;34m)\u001b[0m\u001b[0;34m\u001b[0m\u001b[0;34m\u001b[0m\u001b[0m\n\u001b[0m",
      "\u001b[0;32m~/anaconda3/envs/Capita/lib/python3.8/site-packages/pants/world.py\u001b[0m in \u001b[0;36m__init__\u001b[0;34m(self, nodes, lfunc, **kwargs)\u001b[0m\n\u001b[1;32m     64\u001b[0m         \u001b[0mself\u001b[0m\u001b[0;34m.\u001b[0m\u001b[0m_nodes\u001b[0m \u001b[0;34m=\u001b[0m \u001b[0mnodes\u001b[0m\u001b[0;34m\u001b[0m\u001b[0;34m\u001b[0m\u001b[0m\n\u001b[1;32m     65\u001b[0m         \u001b[0mself\u001b[0m\u001b[0;34m.\u001b[0m\u001b[0mlfunc\u001b[0m \u001b[0;34m=\u001b[0m \u001b[0mlfunc\u001b[0m\u001b[0;34m\u001b[0m\u001b[0;34m\u001b[0m\u001b[0m\n\u001b[0;32m---> 66\u001b[0;31m         \u001b[0mself\u001b[0m\u001b[0;34m.\u001b[0m\u001b[0medges\u001b[0m \u001b[0;34m=\u001b[0m \u001b[0mself\u001b[0m\u001b[0;34m.\u001b[0m\u001b[0mcreate_edges\u001b[0m\u001b[0;34m(\u001b[0m\u001b[0;34m)\u001b[0m\u001b[0;34m\u001b[0m\u001b[0;34m\u001b[0m\u001b[0m\n\u001b[0m\u001b[1;32m     67\u001b[0m \u001b[0;34m\u001b[0m\u001b[0m\n\u001b[1;32m     68\u001b[0m     \u001b[0;34m@\u001b[0m\u001b[0mproperty\u001b[0m\u001b[0;34m\u001b[0m\u001b[0;34m\u001b[0m\u001b[0m\n",
      "\u001b[0;32m~/anaconda3/envs/Capita/lib/python3.8/site-packages/pants/world.py\u001b[0m in \u001b[0;36mcreate_edges\u001b[0;34m(self)\u001b[0m\n\u001b[1;32m     87\u001b[0m                 \u001b[0ma\u001b[0m\u001b[0;34m,\u001b[0m \u001b[0mb\u001b[0m \u001b[0;34m=\u001b[0m \u001b[0mself\u001b[0m\u001b[0;34m.\u001b[0m\u001b[0mdata\u001b[0m\u001b[0;34m(\u001b[0m\u001b[0mm\u001b[0m\u001b[0;34m)\u001b[0m\u001b[0;34m,\u001b[0m \u001b[0mself\u001b[0m\u001b[0;34m.\u001b[0m\u001b[0mdata\u001b[0m\u001b[0;34m(\u001b[0m\u001b[0mn\u001b[0m\u001b[0;34m)\u001b[0m\u001b[0;34m\u001b[0m\u001b[0;34m\u001b[0m\u001b[0m\n\u001b[1;32m     88\u001b[0m                 \u001b[0;32mif\u001b[0m \u001b[0ma\u001b[0m \u001b[0;34m!=\u001b[0m \u001b[0mb\u001b[0m\u001b[0;34m:\u001b[0m\u001b[0;34m\u001b[0m\u001b[0;34m\u001b[0m\u001b[0m\n\u001b[0;32m---> 89\u001b[0;31m                     \u001b[0medge\u001b[0m \u001b[0;34m=\u001b[0m \u001b[0mEdge\u001b[0m\u001b[0;34m(\u001b[0m\u001b[0ma\u001b[0m\u001b[0;34m,\u001b[0m \u001b[0mb\u001b[0m\u001b[0;34m,\u001b[0m \u001b[0mlength\u001b[0m\u001b[0;34m=\u001b[0m\u001b[0mself\u001b[0m\u001b[0;34m.\u001b[0m\u001b[0mlfunc\u001b[0m\u001b[0;34m(\u001b[0m\u001b[0ma\u001b[0m\u001b[0;34m,\u001b[0m \u001b[0mb\u001b[0m\u001b[0;34m)\u001b[0m\u001b[0;34m)\u001b[0m\u001b[0;34m\u001b[0m\u001b[0;34m\u001b[0m\u001b[0m\n\u001b[0m\u001b[1;32m     90\u001b[0m                     \u001b[0medges\u001b[0m\u001b[0;34m[\u001b[0m\u001b[0mm\u001b[0m\u001b[0;34m,\u001b[0m \u001b[0mn\u001b[0m\u001b[0;34m]\u001b[0m \u001b[0;34m=\u001b[0m \u001b[0medge\u001b[0m\u001b[0;34m\u001b[0m\u001b[0;34m\u001b[0m\u001b[0m\n\u001b[1;32m     91\u001b[0m         \u001b[0;32mreturn\u001b[0m \u001b[0medges\u001b[0m\u001b[0;34m\u001b[0m\u001b[0;34m\u001b[0m\u001b[0m\n",
      "\u001b[0;32m<ipython-input-47-dcc796e21f23>\u001b[0m in \u001b[0;36meuclidean\u001b[0;34m(a, b)\u001b[0m\n\u001b[1;32m      1\u001b[0m \u001b[0;32mdef\u001b[0m \u001b[0meuclidean\u001b[0m\u001b[0;34m(\u001b[0m\u001b[0ma\u001b[0m\u001b[0;34m,\u001b[0m \u001b[0mb\u001b[0m\u001b[0;34m)\u001b[0m\u001b[0;34m:\u001b[0m\u001b[0;34m\u001b[0m\u001b[0;34m\u001b[0m\u001b[0m\n\u001b[0;32m----> 2\u001b[0;31m     \u001b[0;32mreturn\u001b[0m \u001b[0mmath\u001b[0m\u001b[0;34m.\u001b[0m\u001b[0msqrt\u001b[0m\u001b[0;34m(\u001b[0m\u001b[0mpow\u001b[0m\u001b[0;34m(\u001b[0m\u001b[0ma\u001b[0m\u001b[0;34m[\u001b[0m\u001b[0;36m1\u001b[0m\u001b[0;34m]\u001b[0m \u001b[0;34m-\u001b[0m \u001b[0mb\u001b[0m\u001b[0;34m[\u001b[0m\u001b[0;36m1\u001b[0m\u001b[0;34m]\u001b[0m\u001b[0;34m,\u001b[0m \u001b[0;36m2\u001b[0m\u001b[0;34m)\u001b[0m \u001b[0;34m+\u001b[0m \u001b[0mpow\u001b[0m\u001b[0;34m(\u001b[0m\u001b[0ma\u001b[0m\u001b[0;34m[\u001b[0m\u001b[0;36m0\u001b[0m\u001b[0;34m]\u001b[0m \u001b[0;34m-\u001b[0m \u001b[0mb\u001b[0m\u001b[0;34m[\u001b[0m\u001b[0;36m0\u001b[0m\u001b[0;34m]\u001b[0m\u001b[0;34m,\u001b[0m \u001b[0;36m2\u001b[0m\u001b[0;34m)\u001b[0m\u001b[0;34m)\u001b[0m\u001b[0;34m\u001b[0m\u001b[0;34m\u001b[0m\u001b[0m\n\u001b[0m",
      "\u001b[0;31mTypeError\u001b[0m: 'method' object is not subscriptable"
     ]
    }
   ],
   "source": [
    "world = pants.World(list_coordinates, euclidean)"
   ]
  },
  {
   "cell_type": "code",
   "execution_count": null,
   "metadata": {},
   "outputs": [],
   "source": []
  }
 ],
 "metadata": {
  "kernelspec": {
   "display_name": "Python 3",
   "language": "python",
   "name": "python3"
  },
  "language_info": {
   "codemirror_mode": {
    "name": "ipython",
    "version": 3
   },
   "file_extension": ".py",
   "mimetype": "text/x-python",
   "name": "python",
   "nbconvert_exporter": "python",
   "pygments_lexer": "ipython3",
   "version": "3.8.1"
  }
 },
 "nbformat": 4,
 "nbformat_minor": 4
}
