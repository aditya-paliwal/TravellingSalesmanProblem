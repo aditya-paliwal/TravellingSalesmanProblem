{
 "cells": [
  {
   "cell_type": "markdown",
   "metadata": {},
   "source": [
    "### Data Preprocessing"
   ]
  },
  {
   "cell_type": "code",
   "execution_count": 126,
   "metadata": {},
   "outputs": [],
   "source": [
    "dataList = []\n",
    "coordianteList = []\n",
    "file = 'data.rtf'\n",
    "\n",
    "with open(file) as fp:\n",
    "    dataList = [tuple(map(float, i.split(\" \"))) for i in fp]"
   ]
  },
  {
   "cell_type": "code",
   "execution_count": 133,
   "metadata": {},
   "outputs": [],
   "source": [
    "cityData = []\n",
    "for data in dataList:\n",
    "    node, x_coord, y_coord = data\n",
    "    coordinateList.append(tuple((data[1], data[2])))"
   ]
  },
  {
   "cell_type": "code",
   "execution_count": 134,
   "metadata": {},
   "outputs": [
    {
     "name": "stdout",
     "output_type": "stream",
     "text": [
      "[(63.0, 71.0), (94.0, 71.0), (142.0, 370.0), (173.0, 1276.0), (205.0, 1213.0), (213.0, 69.0), (244.0, 69.0), (276.0, 630.0), (283.0, 732.0), (362.0, 69.0), (394.0, 69.0), (449.0, 370.0), (480.0, 1276.0), (512.0, 1213.0), (528.0, 157.0), (583.0, 630.0), (591.0, 732.0), (638.0, 654.0), (638.0, 496.0), (638.0, 314.0), (638.0, 142.0), (669.0, 142.0), (677.0, 315.0), (677.0, 496.0), (677.0, 654.0), (709.0, 654.0), (709.0, 496.0), (709.0, 315.0), (701.0, 142.0), (764.0, 220.0), (811.0, 189.0), (843.0, 173.0), (858.0, 370.0), (890.0, 1276.0), (921.0, 1213.0), (992.0, 630.0), (1000.0, 732.0), (1197.0, 1276.0), (1228.0, 1213.0), (1276.0, 205.0), (1299.0, 630.0), (1307.0, 732.0), (1362.0, 654.0), (1362.0, 496.0), (1362.0, 291.0), (1425.0, 654.0), (1425.0, 496.0), (1425.0, 291.0), (1417.0, 173.0), (1488.0, 291.0), (1488.0, 496.0), (1488.0, 654.0), (1551.0, 654.0), (1551.0, 496.0), (1551.0, 291.0), (1614.0, 291.0), (1614.0, 496.0), (1614.0, 654.0), (1732.0, 189.0), (1811.0, 1276.0), (1843.0, 1213.0), (1913.0, 630.0), (1921.0, 732.0), (2087.0, 370.0), (2118.0, 1276.0), (2150.0, 1213.0), (2189.0, 205.0), (2220.0, 189.0), (2220.0, 630.0), (2228.0, 732.0), (2244.0, 142.0), (2276.0, 315.0), (2276.0, 496.0), (2276.0, 654.0), (2315.0, 654.0), (2315.0, 496.0), (2315.0, 315.0), (2331.0, 142.0), (2346.0, 315.0), (2346.0, 496.0), (2346.0, 654.0), (2362.0, 142.0), (2402.0, 157.0), (2402.0, 220.0), (2480.0, 142.0), (2496.0, 370.0), (2528.0, 1276.0), (2559.0, 1213.0), (2630.0, 630.0), (2638.0, 732.0), (2756.0, 69.0), (2787.0, 69.0), (2803.0, 370.0), (2835.0, 1276.0), (2866.0, 1213.0), (2906.0, 69.0), (2937.0, 69.0), (2937.0, 630.0), (2945.0, 732.0), (3016.0, 1276.0), (3055.0, 69.0), (3087.0, 69.0), (606.0, 220.0), (1165.0, 370.0), (1780.0, 370.0)]\n"
     ]
    }
   ],
   "source": [
    "print(cityData)"
   ]
  },
  {
   "cell_type": "code",
   "execution_count": 63,
   "metadata": {},
   "outputs": [],
   "source": [
    "import pandas as pd\n",
    "cols = [\"node\", \"x_coord\", \"y_coord\"]"
   ]
  },
  {
   "cell_type": "code",
   "execution_count": 64,
   "metadata": {},
   "outputs": [],
   "source": [
    "data = pd.read_csv('data.rtf', header=None, delimiter=\" \")"
   ]
  },
  {
   "cell_type": "code",
   "execution_count": 70,
   "metadata": {},
   "outputs": [
    {
     "data": {
      "text/html": [
       "<div>\n",
       "<style scoped>\n",
       "    .dataframe tbody tr th:only-of-type {\n",
       "        vertical-align: middle;\n",
       "    }\n",
       "\n",
       "    .dataframe tbody tr th {\n",
       "        vertical-align: top;\n",
       "    }\n",
       "\n",
       "    .dataframe thead th {\n",
       "        text-align: right;\n",
       "    }\n",
       "</style>\n",
       "<table border=\"1\" class=\"dataframe\">\n",
       "  <thead>\n",
       "    <tr style=\"text-align: right;\">\n",
       "      <th></th>\n",
       "      <th>node</th>\n",
       "      <th>x_coord</th>\n",
       "      <th>y_coord</th>\n",
       "    </tr>\n",
       "  </thead>\n",
       "  <tbody>\n",
       "    <tr>\n",
       "      <th>0</th>\n",
       "      <td>1</td>\n",
       "      <td>63</td>\n",
       "      <td>71</td>\n",
       "    </tr>\n",
       "    <tr>\n",
       "      <th>1</th>\n",
       "      <td>2</td>\n",
       "      <td>94</td>\n",
       "      <td>71</td>\n",
       "    </tr>\n",
       "    <tr>\n",
       "      <th>2</th>\n",
       "      <td>3</td>\n",
       "      <td>142</td>\n",
       "      <td>370</td>\n",
       "    </tr>\n",
       "    <tr>\n",
       "      <th>3</th>\n",
       "      <td>4</td>\n",
       "      <td>173</td>\n",
       "      <td>1276</td>\n",
       "    </tr>\n",
       "    <tr>\n",
       "      <th>4</th>\n",
       "      <td>5</td>\n",
       "      <td>205</td>\n",
       "      <td>1213</td>\n",
       "    </tr>\n",
       "  </tbody>\n",
       "</table>\n",
       "</div>"
      ],
      "text/plain": [
       "   node  x_coord  y_coord\n",
       "0     1       63       71\n",
       "1     2       94       71\n",
       "2     3      142      370\n",
       "3     4      173     1276\n",
       "4     5      205     1213"
      ]
     },
     "execution_count": 70,
     "metadata": {},
     "output_type": "execute_result"
    }
   ],
   "source": [
    "data.head()"
   ]
  },
  {
   "cell_type": "code",
   "execution_count": 71,
   "metadata": {},
   "outputs": [],
   "source": [
    "data.columns = cols"
   ]
  },
  {
   "cell_type": "code",
   "execution_count": 72,
   "metadata": {},
   "outputs": [
    {
     "data": {
      "text/html": [
       "<div>\n",
       "<style scoped>\n",
       "    .dataframe tbody tr th:only-of-type {\n",
       "        vertical-align: middle;\n",
       "    }\n",
       "\n",
       "    .dataframe tbody tr th {\n",
       "        vertical-align: top;\n",
       "    }\n",
       "\n",
       "    .dataframe thead th {\n",
       "        text-align: right;\n",
       "    }\n",
       "</style>\n",
       "<table border=\"1\" class=\"dataframe\">\n",
       "  <thead>\n",
       "    <tr style=\"text-align: right;\">\n",
       "      <th></th>\n",
       "      <th>node</th>\n",
       "      <th>x_coord</th>\n",
       "      <th>y_coord</th>\n",
       "    </tr>\n",
       "  </thead>\n",
       "  <tbody>\n",
       "    <tr>\n",
       "      <th>0</th>\n",
       "      <td>1</td>\n",
       "      <td>63</td>\n",
       "      <td>71</td>\n",
       "    </tr>\n",
       "    <tr>\n",
       "      <th>1</th>\n",
       "      <td>2</td>\n",
       "      <td>94</td>\n",
       "      <td>71</td>\n",
       "    </tr>\n",
       "    <tr>\n",
       "      <th>2</th>\n",
       "      <td>3</td>\n",
       "      <td>142</td>\n",
       "      <td>370</td>\n",
       "    </tr>\n",
       "    <tr>\n",
       "      <th>3</th>\n",
       "      <td>4</td>\n",
       "      <td>173</td>\n",
       "      <td>1276</td>\n",
       "    </tr>\n",
       "    <tr>\n",
       "      <th>4</th>\n",
       "      <td>5</td>\n",
       "      <td>205</td>\n",
       "      <td>1213</td>\n",
       "    </tr>\n",
       "  </tbody>\n",
       "</table>\n",
       "</div>"
      ],
      "text/plain": [
       "   node  x_coord  y_coord\n",
       "0     1       63       71\n",
       "1     2       94       71\n",
       "2     3      142      370\n",
       "3     4      173     1276\n",
       "4     5      205     1213"
      ]
     },
     "execution_count": 72,
     "metadata": {},
     "output_type": "execute_result"
    }
   ],
   "source": [
    "data.head()"
   ]
  }
 ],
 "metadata": {
  "kernelspec": {
   "display_name": "Python 3",
   "language": "python",
   "name": "python3"
  },
  "language_info": {
   "codemirror_mode": {
    "name": "ipython",
    "version": 3
   },
   "file_extension": ".py",
   "mimetype": "text/x-python",
   "name": "python",
   "nbconvert_exporter": "python",
   "pygments_lexer": "ipython3",
   "version": "3.8.1"
  }
 },
 "nbformat": 4,
 "nbformat_minor": 4
}
